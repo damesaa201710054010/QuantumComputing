{
  "cells": [
    {
      "cell_type": "code",
      "execution_count": 26,
      "metadata": {
        "trusted": true
      },
      "outputs": [],
      "source": "%matplotlib inline\nimport numpy as np\nfrom qiskit import QuantumCircuit, execute, Aer, IBMQ, BasicAer\nfrom qiskit.compiler import transpile, assemble\nfrom qiskit.providers.ibmq import least_busy\nfrom qiskit.tools.jupyter import *\nfrom qiskit.visualization import *\nfrom qiskit.visualization import plot_histogram"
    },
    {
      "cell_type": "code",
      "execution_count": 27,
      "metadata": {
        "trusted": true
      },
      "outputs": [],
      "source": "#Para el numeral 1 se nos una funcion booleana, esta funcion tiene como entrada una cadena de bits\n#que devuelve 0 o 1 dependiendo de la CNOT. f({x0,x1,x2,...})→ 0 o 1"
    },
    {
      "cell_type": "code",
      "execution_count": 28,
      "metadata": {
        "trusted": true
      },
      "outputs": [],
      "source": "#Es una funcion nos constante es balanceada, se verifica en el ultimo punto"
    },
    {
      "cell_type": "code",
      "execution_count": 29,
      "metadata": {
        "trusted": true
      },
      "outputs": [
        {
          "data": {
            "text/plain": "<qiskit.circuit.instructionset.InstructionSet at 0x7f5c689dc350>"
          },
          "execution_count": 29,
          "metadata": {},
          "output_type": "execute_result"
        }
      ],
      "source": "#Dos qubits, y uno para el resultado\ndjCircuit = QuantumCircuit(2, 1)\nbarriers = True\n\n#Pasamos el segundo registro al estado |1>\ndjCircuit.x(1)\nif barriers:\n    djCircuit.barrier()\n    \n#aplicacion compuerta H\ndjCircuit.h(range(2))\nif barriers:\n    djCircuit.barrier()\n    \n#aplicacion compuerta cx\ndjCircuit.cx(0, 1)\nif barriers:\n    djCircuit.barrier()\n\n#de nuevo aplicamos H al segundo registro\ndjCircuit.h(range(1))\n\n#realizamos la medicion\ndjCircuit.measure(range(1), range(1))"
    },
    {
      "cell_type": "code",
      "execution_count": 30,
      "metadata": {
        "trusted": true
      },
      "outputs": [
        {
          "data": {
            "image/png": "[encoded data removed]",
            "text/plain": "<Figure size 659.792x204.68 with 1 Axes>"
          },
          "execution_count": 30,
          "metadata": {},
          "output_type": "execute_result"
        }
      ],
      "source": "#dibujo del circuito\ndjCircuit.draw(output='mpl')"
    },
    {
      "cell_type": "code",
      "execution_count": 31,
      "metadata": {
        "trusted": true
      },
      "outputs": [
        {
          "data": {
            "image/png": "[encoded data removed]",
            "text/plain": "<Figure size 504x360 with 1 Axes>"
          },
          "execution_count": 31,
          "metadata": {},
          "output_type": "execute_result"
        }
      ],
      "source": "#Evaluacion\nbackend = BasicAer.get_backend('qasm_simulator')\nshots = 100\nresults = execute(djCircuit, backend=backend, shots=shots).result()\nanswer = results.get_counts()\n\nplot_histogram(answer)"
    },
    {
      "cell_type": "code",
      "execution_count": null,
      "metadata": {
        "trusted": true
      },
      "outputs": [],
      "source": ""
    },
    {
      "cell_type": "code",
      "execution_count": null,
      "metadata": {
        "trusted": true
      },
      "outputs": [],
      "source": ""
    },
    {
      "cell_type": "code",
      "execution_count": null,
      "metadata": {
        "trusted": true
      },
      "outputs": [],
      "source": ""
    },
    {
      "cell_type": "code",
      "execution_count": null,
      "metadata": {
        "trusted": true
      },
      "outputs": [],
      "source": ""
    }
  ],
  "metadata": {
    "kernelspec": {
      "display_name": "Python 3",
      "language": "python",
      "name": "python3"
    },
    "language_info": {
      "codemirror_mode": {
        "name": "ipython",
        "version": 3
      },
      "file_extension": ".py",
      "mimetype": "text/x-python",
      "name": "python",
      "nbconvert_exporter": "python",
      "pygments_lexer": "ipython3",
      "version": "3.7.6"
    }
  },
  "nbformat": 4,
  "nbformat_minor": 4
}