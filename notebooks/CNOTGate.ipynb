{
  "cells": [
    {
      "cell_type": "code",
      "execution_count": 28,
      "metadata": {
        "trusted": true
      },
      "outputs": [
        {
          "name": "stderr",
          "output_type": "stream",
          "text": "ibmqfactory.load_account:WARNING:2020-05-11 04:43:19,714: Credentials are already in use. The existing account in the session will be replaced.\n"
        }
      ],
      "source": "%matplotlib inline\n# Importing standard Qiskit libraries and configuring account\nfrom qiskit import QuantumCircuit, execute, Aer, IBMQ, QuantumRegister, BasicAer\nfrom qiskit.compiler import transpile, assemble\nfrom qiskit.tools.jupyter import *\nfrom qiskit.visualization import *\nfrom qiskit_textbook.tools import array_to_latex\n# Loading your IBM Q account(s)\nprovider = IBMQ.load_account()"
    },
    {
      "cell_type": "code",
      "execution_count": 29,
      "metadata": {
        "trusted": true
      },
      "outputs": [
        {
          "data": {
            "text/plain": "<qiskit.circuit.instructionset.InstructionSet at 0x7fbf04255190>"
          },
          "execution_count": 29,
          "metadata": {},
          "output_type": "execute_result"
        }
      ],
      "source": "#construimos el circuito con dos registros\nq = QuantumRegister(2)\nqc = QuantumCircuit(q)\n#Aplicamos las dos compuertas H y el CZ\nqc.h(q[0])\nqc.cz(q[0], q[1])\nqc.h(q[0])"
    },
    {
      "cell_type": "code",
      "execution_count": 30,
      "metadata": {
        "trusted": true
      },
      "outputs": [
        {
          "data": {
            "image/png": "[encoded data removed]",
            "text/plain": "<Figure size 369.628x144.48 with 1 Axes>"
          },
          "execution_count": 30,
          "metadata": {},
          "output_type": "execute_result"
        }
      ],
      "source": "#Dibujo del circuito\nqc.draw(output='mpl')"
    },
    {
      "cell_type": "code",
      "execution_count": 31,
      "metadata": {
        "trusted": true
      },
      "outputs": [],
      "source": "#Mostramos resultado como compuerta unitaria, se puede observar como resultado el CNOT\nbackend = Aer.get_backend('unitary_simulator')\nunitary = execute(qc,backend).result().get_unitary()"
    },
    {
      "cell_type": "code",
      "execution_count": 32,
      "metadata": {
        "trusted": true
      },
      "outputs": [
        {
          "data": {
            "text/latex": "$\\displaystyle \n\\text{Circuit = }\n\\begin{bmatrix}\n1 & 0 & 0 & 0  \\\\\n0 & 1 & 0 & 0  \\\\\n0 & 0 & 0 & 1  \\\\\n0 & 0 & 1 & 0  \\\\\n\\end{bmatrix}\n$$\n$",
            "text/plain": "<IPython.core.display.Math object>"
          },
          "metadata": {},
          "output_type": "display_data"
        }
      ],
      "source": "array_to_latex(unitary, pretext=\"\\\\text{Circuit = }\\n\")"
    },
    {
      "cell_type": "code",
      "execution_count": 33,
      "metadata": {
        "trusted": true
      },
      "outputs": [
        {
          "data": {
            "text/latex": "$\\displaystyle \n\\text{Statevector = }\\begin{bmatrix}\n1 \\\\\n0 \\\\\n0 \\\\\n0\n\\end{bmatrix}\n$",
            "text/plain": "<IPython.core.display.Math object>"
          },
          "metadata": {},
          "output_type": "display_data"
        }
      ],
      "source": "#Resultado del state vector\nbackend = Aer.get_backend('statevector_simulator')\nfinal_state = execute(qc,backend).result().get_statevector()\narray_to_latex(final_state, pretext=\"\\\\text{Statevector = }\")"
    },
    {
      "cell_type": "code",
      "execution_count": 34,
      "metadata": {
        "trusted": true
      },
      "outputs": [
        {
          "data": {
            "image/png": "[encoded data removed]",
            "text/plain": "<Figure size 504x360 with 1 Axes>"
          },
          "execution_count": 34,
          "metadata": {},
          "output_type": "execute_result"
        }
      ],
      "source": "results = execute(qc,backend).result().get_counts()\nplot_histogram(results)"
    },
    {
      "cell_type": "code",
      "execution_count": null,
      "metadata": {
        "trusted": true
      },
      "outputs": [],
      "source": ""
    }
  ],
  "metadata": {
    "kernelspec": {
      "display_name": "Python 3",
      "language": "python",
      "name": "python3"
    },
    "language_info": {
      "codemirror_mode": {
        "name": "ipython",
        "version": 3
      },
      "file_extension": ".py",
      "mimetype": "text/x-python",
      "name": "python",
      "nbconvert_exporter": "python",
      "pygments_lexer": "ipython3",
      "version": "3.7.6"
    }
  },
  "nbformat": 4,
  "nbformat_minor": 4
}